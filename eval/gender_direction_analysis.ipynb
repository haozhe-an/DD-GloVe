{
 "cells": [
  {
   "cell_type": "code",
   "execution_count": 1,
   "metadata": {},
   "outputs": [],
   "source": [
    "import codecs, os, json, operator, pickle\n",
    "from random import shuffle\n",
    "import numpy as np\n",
    "from numpy import linalg as LA\n",
    "import scipy\n",
    "from scipy import spatial\n",
    "import math\n",
    "import matplotlib.pyplot as plt \n",
    "from matplotlib.pyplot import figure"
   ]
  },
  {
   "cell_type": "code",
   "execution_count": 2,
   "metadata": {},
   "outputs": [],
   "source": [
    "def load_glove(path):\n",
    "    with open(path) as f:\n",
    "        lines = f.readlines()\n",
    "    \n",
    "    wv = []\n",
    "    vocab = []\n",
    "    for line in lines:\n",
    "        tokens = line.strip().split(\" \")\n",
    "        try:\n",
    "            assert len(tokens) == 301\n",
    "            vocab.append(tokens[0])\n",
    "            wv.append([float(elem) for elem in tokens[1:]])\n",
    "        except:\n",
    "            print(line)\n",
    "        \n",
    "    w2i = {w: i for i, w in enumerate(vocab)}\n",
    "    wv = np.array(wv).astype(float)\n",
    "    print(len(vocab), wv.shape, len(w2i))\n",
    "    \n",
    "    return wv, w2i, vocab\n",
    "\n",
    "from sklearn.decomposition import PCA\n",
    "def my_pca(wv):\n",
    "    wv_mean = np.mean(np.array(wv), axis=0)\n",
    "    wv_hat = np.zeros(wv.shape).astype(float)\n",
    "\n",
    "    for i in range(len(wv)):\n",
    "        wv_hat[i, :] = wv[i, :] - wv_mean\n",
    "\n",
    "    main_pca = PCA()\n",
    "    main_pca.fit(wv_hat)\n",
    "#     main_pca.fit(wv)\n",
    "\n",
    "    return main_pca\n",
    "\n",
    "def simi(a, b):\n",
    "    ret = 1-spatial.distance.cosine(a, b)\n",
    "    return ret"
   ]
  },
  {
   "cell_type": "code",
   "execution_count": 3,
   "metadata": {},
   "outputs": [
    {
     "name": "stdout",
     "output_type": "stream",
     "text": [
      "400000 300\n",
      "\n",
      "400001 (400001, 300) 400001\n",
      "400001 (400001, 300) 400001\n"
     ]
    }
   ],
   "source": [
    "wv_dd, w2i_dd, vocab_dd = load_glove('vectors_ddglove_gender.txt')\n",
    "wv_glove, w2i_glove, vocab_glove = load_glove('vectors_glove.txt')"
   ]
  },
  {
   "cell_type": "code",
   "execution_count": 4,
   "metadata": {},
   "outputs": [
    {
     "name": "stdout",
     "output_type": "stream",
     "text": [
      "pairs used in PCA:  10\n"
     ]
    }
   ],
   "source": [
    "from utils import doPCA\n",
    "\n",
    "female_ids = [43, 195, 509, 829, 1086, 1361, 1419, 1597, 2921, 3158, 6064, 7496, 7503, 13598, 13641, 13786, 14204, 18384, 19500, 19747, 20332, 22464, 22931, 24041, 25054, 26028, 26511, 26944, 29228, 29667]\n",
    "male_ids = [19, 304, 653, 1251, 1557, 1634, 1642, 3795, 5645, 10071, 10212, 11895, 12151, 12730, 13807, 14653, 15311, 16259, 19026, 19255, 19478, 19728, 24812, 25269, 25550, 25553, 26031, 26791, 27600, 28077]\n",
    "all_ids = female_ids + male_ids\n",
    "\n",
    "definitional_pairs = [['she', 'he'], ['herself', 'himself'], ['her', 'his'], ['daughter', 'son'],\n",
    "                      ['girl', 'boy'], ['mother', 'father'], ['woman', 'man'], ['mary', 'john'],\n",
    "                      ['gal', 'guy'], ['female', 'male']]\n",
    "\n",
    "\n",
    "old_gender_direction = doPCA(definitional_pairs, wv_glove, w2i_glove).components_[0]\n",
    "\n",
    "my_gender_direction = sum([wv_glove[w_id, :] for w_id in female_ids]) / len(female_ids) - sum([wv_glove[w_id, :] for w_id in male_ids]) / len(male_ids)"
   ]
  },
  {
   "cell_type": "code",
   "execution_count": 5,
   "metadata": {},
   "outputs": [],
   "source": [
    "male_specific = []\n",
    "female_specific = []\n",
    "with open('male_word_file.txt') as f:\n",
    "    for l in f:\n",
    "        if not l.strip() in vocab_dd:\n",
    "            continue\n",
    "        male_specific.append(l.strip())\n",
    "with open('female_word_file.txt') as f:\n",
    "    for l in f:\n",
    "        if not l.strip() in vocab_dd:\n",
    "            continue\n",
    "        female_specific.append(l.strip())"
   ]
  },
  {
   "cell_type": "markdown",
   "metadata": {},
   "source": [
    "We also quantitatively evaluate the quality of gender direction approximation. Similar to Antoniak and Mimno (2021)’s argument, a good gender direction should have large magnitude in cosine similarity with gender specific words while the signs are opposite for the two genders. \n",
    "\n",
    "This phenomenon would imply that the male-specific words and female-specific words are far apart from the other set when they are projected onto the gender direction. \n",
    "\t\n",
    "We borrow 190 male-specific words and 177 female specific words used by the authors of Double Hard Debias (Wang et al., 2020) and compute their average cosine similarities with different gender directions.\n",
    "Figures below show that gender-specific words have similar cosine similarities with both the gender direction used by Bolukbasi et al.(2016) and the gender direction found by our Algorithm 1 in the paper. \n",
    "This indicates that, in the GloVe embedding space, our gender direction is as effective as the baseline to capture the notion of gender. \n",
    "In DD-GloVe embeddings, our gender direction has greater magnitude of average cosine similarities for both genders. Consequently, the difference between male and female cosine similarity is larger, indicating a clearer manifestation of gender. "
   ]
  },
  {
   "cell_type": "code",
   "execution_count": 6,
   "metadata": {},
   "outputs": [
    {
     "data": {
      "image/png": "[encoded data removed]",
      "text/plain": [
       "<Figure size 640x480 with 1 Axes>"
      ]
     },
     "metadata": {
      "needs_background": "light"
     },
     "output_type": "display_data"
    }
   ],
   "source": [
    "# Evaluate the quality of gender direciton in the GloVe word embedding space\n",
    "old_d_male = {}\n",
    "old_d_female = {}\n",
    "for word in male_specific:\n",
    "    similarity = simi(wv_glove[w2i_glove[word], :], old_gender_direction) \n",
    "    old_d_male[word] = similarity\n",
    "for word in female_specific:\n",
    "    similarity = simi(wv_glove[w2i_glove[word], :], old_gender_direction)\n",
    "    old_d_female[word] = similarity\n",
    "    \n",
    "new_d_male = {}\n",
    "new_d_female = {}\n",
    "for word in male_specific:\n",
    "    similarity = simi(wv_glove[w2i_glove[word], :], my_gender_direction) \n",
    "    new_d_male[word] = similarity\n",
    "for word in female_specific:\n",
    "    similarity = simi(wv_glove[w2i_glove[word], :], my_gender_direction)\n",
    "    new_d_female[word] = similarity\n",
    "    \n",
    "old_avg = np.average(list(old_d_male.values()) + (list(old_d_female.values())))\n",
    "old_std = np.std(list(old_d_male.values()) + (list(old_d_female.values())))\n",
    "\n",
    "new_avg = np.average(list(new_d_male.values()) + (list(new_d_female.values())))\n",
    "new_std = np.std(list(new_d_male.values()) + (list(new_d_female.values())))\n",
    "\n",
    "old_female = np.average((list(old_d_female.values()) - old_avg) / old_std)\n",
    "new_female = np.average((list(new_d_female.values()) - new_avg) / new_std)\n",
    "old_male = np.average((list(old_d_male.values()) - old_avg) / old_std)\n",
    "new_male = np.average((list(new_d_male.values()) - new_avg) / new_std)\n",
    "\n",
    "figure(figsize=(8, 6), dpi=80)\n",
    "  \n",
    "X = ['Male Specific','Female Specific','Difference']\n",
    "Yold = [old_male, old_female, abs(old_male - old_female)]\n",
    "Znew = [new_male, new_female, abs(new_male-new_female)]\n",
    "    \n",
    "X_axis = np.arange(len(X))\n",
    "\n",
    "\n",
    "  \n",
    "plt.bar(X_axis - 0.15, Yold, 0.3, label = '10-Pair')\n",
    "plt.bar(X_axis + 0.15, Znew, 0.3, label = 'Ours', hatch=\"//\")\n",
    "  \n",
    "plt.xticks(X_axis, X, fontsize=16)\n",
    "plt.ylabel(\"Cosine similarity value\", fontsize=16)\n",
    "plt.legend(fontsize=16)\n",
    "plt.tight_layout()\n",
    "# plt.savefig('../AAAI-21-debiasing/fig/gender_dir_glove.pdf')\n",
    "plt.show()\n"
   ]
  },
  {
   "cell_type": "code",
   "execution_count": 7,
   "metadata": {},
   "outputs": [
    {
     "name": "stdout",
     "output_type": "stream",
     "text": [
      "pairs used in PCA:  10\n"
     ]
    }
   ],
   "source": [
    "old_gender_direction = doPCA(definitional_pairs, wv_dd, w2i_dd).components_[0]\n",
    "\n",
    "my_gender_direction = sum([wv_dd[w_id, :] for w_id in female_ids]) / len(female_ids) - sum([wv_dd[w_id, :] for w_id in male_ids]) / len(male_ids)"
   ]
  },
  {
   "cell_type": "code",
   "execution_count": 8,
   "metadata": {},
   "outputs": [
    {
     "data": {
      "image/png": "[encoded data removed]",
      "text/plain": [
       "<Figure size 640x480 with 1 Axes>"
      ]
     },
     "metadata": {
      "needs_background": "light"
     },
     "output_type": "display_data"
    }
   ],
   "source": [
    "# Evaluate the quality of gender direciton in the DD-GloVe word embedding space\n",
    "old_d_male = {}\n",
    "old_d_female = {}\n",
    "for word in male_specific:\n",
    "    similarity = simi(wv_dd[w2i_dd[word], :], old_gender_direction) \n",
    "    old_d_male[word] = similarity\n",
    "for word in female_specific:\n",
    "    similarity = simi(wv_dd[w2i_dd[word], :], old_gender_direction)\n",
    "    old_d_female[word] = similarity\n",
    "    \n",
    "new_d_male = {}\n",
    "new_d_female = {}\n",
    "for word in male_specific:\n",
    "    similarity = simi(wv_dd[w2i_dd[word], :], my_gender_direction) \n",
    "    new_d_male[word] = similarity\n",
    "for word in female_specific:\n",
    "    similarity = simi(wv_dd[w2i_dd[word], :], my_gender_direction)\n",
    "    new_d_female[word] = similarity\n",
    "    \n",
    "old_avg = np.average(list(old_d_male.values()) + (list(old_d_female.values())))\n",
    "old_std = np.std(list(old_d_male.values()) + (list(old_d_female.values())))\n",
    "\n",
    "new_avg = np.average(list(new_d_male.values()) + (list(new_d_female.values())))\n",
    "new_std = np.std(list(new_d_male.values()) + (list(new_d_female.values())))\n",
    "\n",
    "old_female = np.average((list(old_d_female.values()) - old_avg) / old_std)\n",
    "new_female = np.average((list(new_d_female.values()) - new_avg) / new_std)\n",
    "old_male = np.average((list(old_d_male.values()) - old_avg) / old_std)\n",
    "new_male = np.average((list(new_d_male.values()) - new_avg) / new_std)\n",
    "\n",
    "figure(figsize=(8, 6), dpi=80)\n",
    "  \n",
    "X = ['Male Specific','Female Specific','Difference']\n",
    "Yold = [old_male, old_female, abs(old_male - old_female)]\n",
    "Znew = [new_male, new_female, abs(new_male-new_female)]\n",
    "    \n",
    "X_axis = np.arange(len(X))\n",
    "  \n",
    "plt.bar(X_axis - 0.15, Yold, 0.3, label = '10-Pair')\n",
    "plt.bar(X_axis + 0.15, Znew, 0.3, label = 'Ours', hatch=\"//\")\n",
    "  \n",
    "plt.xticks(X_axis, X, fontsize=16)\n",
    "plt.ylabel(\"Cosine similarity value\", fontsize=16)\n",
    "plt.legend(fontsize=16)\n",
    "plt.tight_layout()\n",
    "# plt.savefig('../AAAI-21-debiasing/fig/gender_dir_dd.pdf')\n",
    "plt.show()"
   ]
  },
  {
   "cell_type": "code",
   "execution_count": null,
   "metadata": {},
   "outputs": [],
   "source": []
  }
 ],
 "metadata": {
  "kernelspec": {
   "display_name": "pytorch1.7",
   "language": "python",
   "name": "pytorch1.7"
  },
  "language_info": {
   "codemirror_mode": {
    "name": "ipython",
    "version": 3
   },
   "file_extension": ".py",
   "mimetype": "text/x-python",
   "name": "python",
   "nbconvert_exporter": "python",
   "pygments_lexer": "ipython3",
   "version": "3.8.5"
  }
 },
 "nbformat": 4,
 "nbformat_minor": 4
}
